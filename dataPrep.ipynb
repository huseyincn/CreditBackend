{
 "cells": [
  {
   "attachments": {},
   "cell_type": "markdown",
   "metadata": {},
   "source": [
    "# Burada Ne Yapıyorum?\n",
    "Burada ilk önce csv dosyamı pandas yardımı ile dataframe'e çeviriyorum.\n",
    "Sayı tipinde OLMAYAN sütunları label encoder ile çeviriyorum.\n",
    "Standardizasyonu class yani y sütunu hariç hepsine uyguluyorum.\n",
    "En son temiz datayı yeni bir csv dosyası olarak export ediyorum aynı zamanda standardizasyon nesnesini de yeni gelen verilere uygulaması için tutuyorum."
   ]
  },
  {
   "cell_type": "code",
   "execution_count": 34,
   "metadata": {},
   "outputs": [],
   "source": [
    "import pandas as pd\n",
    "\n",
    "df = pd.read_csv(\"credit_customers.csv\")"
   ]
  },
  {
   "cell_type": "code",
   "execution_count": 35,
   "metadata": {},
   "outputs": [],
   "source": [
    "df[['sex', 'marriage']] = df.personal_status.str.split(\" \", expand = True)\n",
    "df.drop(['personal_status'], axis=1, inplace = True) # Personal status satırında cinsiyet ve medeni durum birlikte onları ayırıyoruz"
   ]
  },
  {
   "cell_type": "code",
   "execution_count": 36,
   "metadata": {},
   "outputs": [],
   "source": [
    "from sklearn.preprocessing import LabelEncoder\n",
    "df[[l for l,k in df.items() if k.dtype=='O']] = df[[l for l,k in df.items() if k.dtype=='O']].apply(LabelEncoder().fit_transform) # yukarda türü sayı olmayan sütunları listeye atmıştım onları label encoder yapıp sayıya çeviriyorum"
   ]
  },
  {
   "cell_type": "code",
   "execution_count": 37,
   "metadata": {},
   "outputs": [
    {
     "data": {
      "text/plain": [
       "['StandardScalar.joblib']"
      ]
     },
     "execution_count": 37,
     "metadata": {},
     "output_type": "execute_result"
    }
   ],
   "source": [
    "from joblib import dump\n",
    "from sklearn.preprocessing import StandardScaler\n",
    "standarder = StandardScaler()\n",
    "df[[l for l,k in df.items() if l!='class']]=standarder.fit_transform(df[[l for l,k in df.items() if l!='class']])\n",
    "dump(standarder,\"StandardScalar.joblib\")"
   ]
  },
  {
   "cell_type": "code",
   "execution_count": 38,
   "metadata": {},
   "outputs": [],
   "source": [
    "df.to_csv('clean_data.csv',index=False)"
   ]
  }
 ],
 "metadata": {
  "kernelspec": {
   "display_name": ".venv",
   "language": "python",
   "name": "python3"
  },
  "language_info": {
   "codemirror_mode": {
    "name": "ipython",
    "version": 3
   },
   "file_extension": ".py",
   "mimetype": "text/x-python",
   "name": "python",
   "nbconvert_exporter": "python",
   "pygments_lexer": "ipython3",
   "version": "3.11.2"
  },
  "orig_nbformat": 4
 },
 "nbformat": 4,
 "nbformat_minor": 2
}
