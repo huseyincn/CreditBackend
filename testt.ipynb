{
 "cells": [
  {
   "cell_type": "code",
   "execution_count": 1,
   "metadata": {},
   "outputs": [
    {
     "name": "stderr",
     "output_type": "stream",
     "text": [
      "2023-06-02 14:46:46.007923: I tensorflow/tsl/cuda/cudart_stub.cc:28] Could not find cuda drivers on your machine, GPU will not be used.\n",
      "2023-06-02 14:46:46.151385: I tensorflow/tsl/cuda/cudart_stub.cc:28] Could not find cuda drivers on your machine, GPU will not be used.\n",
      "2023-06-02 14:46:46.152143: I tensorflow/core/platform/cpu_feature_guard.cc:182] This TensorFlow binary is optimized to use available CPU instructions in performance-critical operations.\n",
      "To enable the following instructions: AVX2 FMA, in other operations, rebuild TensorFlow with the appropriate compiler flags.\n",
      "2023-06-02 14:46:47.262234: W tensorflow/compiler/tf2tensorrt/utils/py_utils.cc:38] TF-TRT Warning: Could not find TensorRT\n"
     ]
    }
   ],
   "source": [
    "import tensorflow as tf\n",
    "import pandas as pd\n",
    "\n",
    "\n",
    "\n"
   ]
  },
  {
   "cell_type": "code",
   "execution_count": 2,
   "metadata": {},
   "outputs": [],
   "source": [
    "reloaded_model = tf.keras.models.load_model('exportedModel')\n",
    "other = tf.keras.models.load_model('exportedModelacc82')\n"
   ]
  },
  {
   "cell_type": "code",
   "execution_count": 3,
   "metadata": {},
   "outputs": [],
   "source": [
    "data = [['<0', 6.0, 'critical/other existing credit', 'radio/tv', 1169.0, 'no known savings', '>=7', 4.0, 'none', 4.0, 'real estate', 67.0, 'none', 'own', 2.0, 'skilled', 1.0, 'yes', 'yes','male','single'],\n",
    "        ['0<=X<200', 48.0, 'existing paid', 'radio/tv', 5951.0, '<100', '1<=X<4', 2.0, 'none', 2.0, 'real estate', 22.0, 'none', 'own', 1.0, 'skilled', 1.0, 'none', 'yes', 'female','div/dep/mar'],\n",
    "        ['no checking', 12.0, 'existing paid', 'radio/tv', 3059.0, '>=1000', '4<=X<7', 2.0, 'none', 4.0, 'real estate', 61.0, 'none', 'own', 1.0, 'unskilled resident', 1.0, 'none', 'yes', 'male', 'div/sep'],\n",
    "['0<=X<200', 30.0, 'critical/other existing credit', 'new car', 5234.0, '<100', 'unemployed', 4.0, 'none', 2.0, 'car', 28.0, 'none', 'own', 2.0, 'high qualif/self emp/mgmt', 1.0, 'none', 'yes', 'male', 'mar/wid']]\n",
    "\n",
    "\n",
    "columns = ['checking_status', 'duration', 'credit_history', 'purpose',\n",
    "           'credit_amount', 'savings_status', 'employment',\n",
    "           'installment_commitment', 'other_parties', 'residence_since',\n",
    "           'property_magnitude', 'age', 'other_payment_plans', 'housing',\n",
    "           'existing_credits', 'job', 'num_dependents', 'own_telephone',\n",
    "           'foreign_worker', 'sex', 'marriage']\n",
    "\n",
    "# Create the pandas DataFrame with column name is provided explicitly\n",
    "df = pd.DataFrame(data, columns=columns)"
   ]
  },
  {
   "cell_type": "code",
   "execution_count": 4,
   "metadata": {},
   "outputs": [],
   "source": [
    "def df_to_dataset(dataframe, shuffle=True, batch_size=32):\n",
    "  df = dataframe.copy()\n",
    "  df = {key: value[:,tf.newaxis] for key, value in dataframe.items()}\n",
    "  ds = tf.data.Dataset.from_tensor_slices((dict(df)))\n",
    "  if shuffle:\n",
    "    ds = ds.shuffle(buffer_size=len(dataframe))\n",
    "  ds = ds.batch(batch_size)\n",
    "  ds = ds.prefetch(batch_size)\n",
    "  return ds"
   ]
  },
  {
   "cell_type": "code",
   "execution_count": 5,
   "metadata": {},
   "outputs": [
    {
     "name": "stderr",
     "output_type": "stream",
     "text": [
      "/tmp/ipykernel_8352/994913286.py:3: FutureWarning: Support for multi-dimensional indexing (e.g. `obj[:, None]`) is deprecated and will be removed in a future version.  Convert to a numpy array before indexing instead.\n",
      "  df = {key: value[:,tf.newaxis] for key, value in dataframe.items()}\n",
      "2023-06-01 15:05:01.704182: I tensorflow/core/common_runtime/executor.cc:1197] [/device:CPU:0] (DEBUG INFO) Executor start aborting (this does not indicate an error and you can ignore this message): INVALID_ARGUMENT: You must feed a value for placeholder tensor 'Placeholder/_18' with dtype double and shape [4,1]\n",
      "\t [[{{node Placeholder/_18}}]]\n",
      "2023-06-01 15:05:01.704651: I tensorflow/core/common_runtime/executor.cc:1197] [/device:CPU:0] (DEBUG INFO) Executor start aborting (this does not indicate an error and you can ignore this message): INVALID_ARGUMENT: You must feed a value for placeholder tensor 'Placeholder/_8' with dtype string and shape [4,1]\n",
      "\t [[{{node Placeholder/_8}}]]\n"
     ]
    },
    {
     "name": "stdout",
     "output_type": "stream",
     "text": [
      "1/1 [==============================] - 0s 377ms/step\n",
      "1/1 [==============================] - 0s 313ms/step\n"
     ]
    }
   ],
   "source": [
    "ds=df_to_dataset(df,False,len(df))\n",
    "result=reloaded_model.predict(ds)\n",
    "result2 = other.predict(ds)"
   ]
  },
  {
   "cell_type": "code",
   "execution_count": 6,
   "metadata": {},
   "outputs": [
    {
     "data": {
      "text/plain": [
       "array([[ 4.0525217 ],\n",
       "       [-0.22726955],\n",
       "       [ 6.2764983 ],\n",
       "       [-0.9221665 ]], dtype=float32)"
      ]
     },
     "execution_count": 6,
     "metadata": {},
     "output_type": "execute_result"
    }
   ],
   "source": [
    "result"
   ]
  },
  {
   "cell_type": "code",
   "execution_count": 7,
   "metadata": {},
   "outputs": [
    {
     "data": {
      "text/plain": [
       "array([[ 5.247242 ],\n",
       "       [-1.1438978],\n",
       "       [ 7.60202  ],\n",
       "       [-1.401924 ]], dtype=float32)"
      ]
     },
     "execution_count": 7,
     "metadata": {},
     "output_type": "execute_result"
    }
   ],
   "source": [
    "result2"
   ]
  },
  {
   "cell_type": "code",
   "execution_count": null,
   "metadata": {},
   "outputs": [],
   "source": []
  }
 ],
 "metadata": {
  "kernelspec": {
   "display_name": ".venv",
   "language": "python",
   "name": "python3"
  },
  "language_info": {
   "codemirror_mode": {
    "name": "ipython",
    "version": 3
   },
   "file_extension": ".py",
   "mimetype": "text/x-python",
   "name": "python",
   "nbconvert_exporter": "python",
   "pygments_lexer": "ipython3",
   "version": "3.11.2"
  },
  "orig_nbformat": 4
 },
 "nbformat": 4,
 "nbformat_minor": 2
}
